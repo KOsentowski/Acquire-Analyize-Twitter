{
 "cells": [
  {
   "cell_type": "markdown",
   "id": "b562e7f5-68f0-44ca-82bb-0502d1316874",
   "metadata": {},
   "source": [
    "# Twitter Acquistion of #Montana"
   ]
  },
  {
   "cell_type": "markdown",
   "id": "61db6949-9dbb-4bed-a8c7-1ed4a80c4c05",
   "metadata": {},
   "source": [
    "## Kaylee Osentowski on 12/11/2021"
   ]
  },
  {
   "cell_type": "markdown",
   "id": "499233b1-a9ee-4a02-ace1-653caba871cc",
   "metadata": {},
   "source": [
    "The goal of this project was to pull the most recent Tweets through the Twitter API that have #Montana in them. With large sport games occuring in this state, as well as forest fires. I was interested in what Twitter users were saying in regards to Montana. "
   ]
  },
  {
   "cell_type": "markdown",
   "id": "eba36276-d9dd-4755-94b3-e8706dd05790",
   "metadata": {},
   "source": [
    "## Acquiring Data from Twitter"
   ]
  },
  {
   "cell_type": "markdown",
   "id": "0dc61a24-caff-4580-8cfb-0d51ab23872d",
   "metadata": {},
   "source": [
    "The first step is to actually pull the data from Twitter. Using the Twitter API I was able to search \"#Montana\" for the past 7 days. I then pulled the user, date tweeted, and the body of the tweet. "
   ]
  },
  {
   "cell_type": "code",
   "execution_count": 278,
   "id": "6cc6a0ac-bebd-4ed9-b6f9-4481bdc4f159",
   "metadata": {},
   "outputs": [],
   "source": [
    "#Imports. And setting the API keys and tokens from Twitter Developer App\n",
    "import datetime\n",
    "import tweepy\n",
    "import twitter \n",
    "import numpy as np\n",
    "import pprint\n",
    "import collections\n",
    "import seaborn as sns\n",
    "\n",
    "\n",
    "api_key = 'xgpE9fl3gdo4Mc8A6HgtqM9II'\n",
    "api_key_secret = 'yPLazQ5xQHfBHQ9D4pt2Eu5HCszhg5SAfWfYVJBWhVk5UnlHmA'\n",
    "access_token = '2389805527-0mIXhjsoPARPAL37md5ginO6KAOjN9IwydE3RrX'\n",
    "access_token_secret = 'Je5Usrh9dmNdxqdvGi29LJPrwMoVzpfSk4fviOucCv0r1'"
   ]
  },
  {
   "cell_type": "code",
   "execution_count": 2,
   "id": "c295ed8c-1997-4ed2-b553-21ad7a139d5c",
   "metadata": {},
   "outputs": [],
   "source": [
    "# Authenticate the Tweepy API\n",
    "auth = tweepy.OAuthHandler(api_key,api_key_secret)\n",
    "auth.set_access_token(access_token, access_token_secret)\n",
    "api = tweepy.API(auth,wait_on_rate_limit=True)"
   ]
  },
  {
   "cell_type": "code",
   "execution_count": 53,
   "id": "bc263d19-2326-42f8-8a67-d29d103bf4e5",
   "metadata": {},
   "outputs": [
    {
     "ename": "SyntaxError",
     "evalue": "unexpected EOF while parsing (<ipython-input-53-e9ea24196151>, line 23)",
     "output_type": "error",
     "traceback": [
      "\u001b[0;36m  File \u001b[0;32m\"<ipython-input-53-e9ea24196151>\"\u001b[0;36m, line \u001b[0;32m23\u001b[0m\n\u001b[0;31m    \u001b[0m\n\u001b[0m    ^\u001b[0m\n\u001b[0;31mSyntaxError\u001b[0m\u001b[0;31m:\u001b[0m unexpected EOF while parsing\n"
     ]
    }
   ],
   "source": [
    "# Note: the search API only goes back 7 days\n",
    "date_start = datetime.date.today()\n",
    "date_end = date_start - datetime.timedelta(days=2)\n",
    "\n",
    "search_words = f'#Montana since:{date_end} until:{date_start} -filter:retweets'\n",
    "\n",
    " \n",
    "for idx, item in enumerate(tweepy.Cursor(api.search_tweets, \n",
    "                                         q = search_words,\n",
    "                                         since= date_end,\n",
    "                                         tweet_mode='extended',# tweet_mode is defaulted to short, which only holds the first 140 characters of a Tweet.\n",
    "                                         lang='en').items()):\n",
    "    \n",
    "    # Gathering screen name, date/time, tweet text.\n",
    "    print(item.user.screen_name)\n",
    "    print(item.created_at)\n",
    "    print(item.full_text)\n",
    "    print('-'*40)\n",
    "    \n",
    "    if idx == 1000:\n",
    "        break\n",
    "    "
   ]
  },
  {
   "cell_type": "code",
   "execution_count": 51,
   "id": "5b1f9d27-e681-4b4c-951c-66cd1a4712b4",
   "metadata": {},
   "outputs": [],
   "source": [
    "search_words = '#Montana -filter:retweets'\n",
    "\n",
    "\n",
    "tweets_all = tweepy.Cursor(api.search_tweets,\n",
    "                   tweet_mode='extended',\n",
    "                   q=search_words,\n",
    "                   lang='en').items()\n",
    "\n",
    "# Put all the Tweet objects for a single Tweet into a tuple, and put all those into a list\n",
    "tweets = [(tweet.full_text,tweet.created_at,tweet.user.screen_name) for tweet in tweets_all]"
   ]
  },
  {
   "cell_type": "code",
   "execution_count": 142,
   "id": "7c2de0d5-442d-466b-b097-f596554dfda5",
   "metadata": {},
   "outputs": [],
   "source": [
    "#building a dataframe of the tweets\n",
    "df = pd.DataFrame(tweets) \n",
    "    \n",
    "# saving the dataframe \n",
    "df.to_csv('MontanaTwitter.csv',header=[\"Tweet\", \"Created\", \"User\"],index=False)"
   ]
  },
  {
   "cell_type": "code",
   "execution_count": 144,
   "id": "fa823593-b43e-4ea1-b716-5daa44d0c476",
   "metadata": {},
   "outputs": [
    {
     "data": {
      "text/html": [
       "<div>\n",
       "<style scoped>\n",
       "    .dataframe tbody tr th:only-of-type {\n",
       "        vertical-align: middle;\n",
       "    }\n",
       "\n",
       "    .dataframe tbody tr th {\n",
       "        vertical-align: top;\n",
       "    }\n",
       "\n",
       "    .dataframe thead th {\n",
       "        text-align: right;\n",
       "    }\n",
       "</style>\n",
       "<table border=\"1\" class=\"dataframe\">\n",
       "  <thead>\n",
       "    <tr style=\"text-align: right;\">\n",
       "      <th></th>\n",
       "      <th>Tweet</th>\n",
       "      <th>Created</th>\n",
       "      <th>User</th>\n",
       "    </tr>\n",
       "  </thead>\n",
       "  <tbody>\n",
       "    <tr>\n",
       "      <th>0</th>\n",
       "      <td>Rupert Murdoch buys sprawling ranch in Beaverh...</td>\n",
       "      <td>2021-12-10 21:08:45+00:00</td>\n",
       "      <td>gkearney</td>\n",
       "    </tr>\n",
       "    <tr>\n",
       "      <th>1</th>\n",
       "      <td>Help support this young student (Missoula Zoot...</td>\n",
       "      <td>2021-12-10 21:06:00+00:00</td>\n",
       "      <td>MontanaBasque</td>\n",
       "    </tr>\n",
       "    <tr>\n",
       "      <th>2</th>\n",
       "      <td>ActivArmor is being featured at BSATSMC Januar...</td>\n",
       "      <td>2021-12-10 20:58:48+00:00</td>\n",
       "      <td>ActivArmor</td>\n",
       "    </tr>\n",
       "    <tr>\n",
       "      <th>3</th>\n",
       "      <td>100 yrs after #bison nearly disappeared, 5,400...</td>\n",
       "      <td>2021-12-10 20:57:04+00:00</td>\n",
       "      <td>COAnimalProtect</td>\n",
       "    </tr>\n",
       "    <tr>\n",
       "      <th>4</th>\n",
       "      <td>\"Spreading The Good News About CUs!\"\\n#creditu...</td>\n",
       "      <td>2021-12-10 20:26:30+00:00</td>\n",
       "      <td>CUEvangelist</td>\n",
       "    </tr>\n",
       "  </tbody>\n",
       "</table>\n",
       "</div>"
      ],
      "text/plain": [
       "                                               Tweet  \\\n",
       "0  Rupert Murdoch buys sprawling ranch in Beaverh...   \n",
       "1  Help support this young student (Missoula Zoot...   \n",
       "2  ActivArmor is being featured at BSATSMC Januar...   \n",
       "3  100 yrs after #bison nearly disappeared, 5,400...   \n",
       "4  \"Spreading The Good News About CUs!\"\\n#creditu...   \n",
       "\n",
       "                    Created             User  \n",
       "0 2021-12-10 21:08:45+00:00         gkearney  \n",
       "1 2021-12-10 21:06:00+00:00    MontanaBasque  \n",
       "2 2021-12-10 20:58:48+00:00       ActivArmor  \n",
       "3 2021-12-10 20:57:04+00:00  COAnimalProtect  \n",
       "4 2021-12-10 20:26:30+00:00     CUEvangelist  "
      ]
     },
     "execution_count": 144,
     "metadata": {},
     "output_type": "execute_result"
    }
   ],
   "source": [
    "#checking column names and the first 5 records\n",
    "df.columns = ['Tweet', 'Created', 'User']\n",
    "df.head(5)"
   ]
  },
  {
   "cell_type": "markdown",
   "id": "4751d3a2-e1df-4c0e-bd2d-b2d73adc3704",
   "metadata": {},
   "source": [
    "# Analyze"
   ]
  },
  {
   "cell_type": "markdown",
   "id": "f7a9d569-b003-432d-89e4-4292c535e106",
   "metadata": {},
   "source": [
    "The next step is to actually use this data I have pulled. The first step is to read in the csv and read the \"unclean\" basic text statistics"
   ]
  },
  {
   "cell_type": "code",
   "execution_count": 56,
   "id": "7c2ee2f1-afec-4528-9c04-5cc0cc1f961e",
   "metadata": {},
   "outputs": [],
   "source": [
    "#Opening CSV\n",
    "MT = open(\"MontanaTwitter.csv\",'r',  encoding=\"UTF-8\").read()"
   ]
  },
  {
   "cell_type": "code",
   "execution_count": 170,
   "id": "ebdfdc0a-9264-4f0f-a296-dc26dd42cac3",
   "metadata": {},
   "outputs": [
    {
     "name": "stdout",
     "output_type": "stream",
     "text": [
      "#Montana is 265493 tokens long.\n",
      "#Montana has 331 unique tokens.\n",
      "#Montana lexical diversity is 0.001.\n",
      "#Montana average token length is 1.00.\n",
      "\n",
      "All statistics are calculated BEFORE cleaning.\n"
     ]
    }
   ],
   "source": [
    "#Using the unclean data to pull statistics:\n",
    "print(f\"#Montana is {len(MT)} tokens long.\")\n",
    "print(f\"#Montana has {len(set(MT))} unique tokens.\")\n",
    "print(f\"#Montana lexical diversity is {len(set(MT))/len(MT):.3f}.\")\n",
    "# Build a vector of token length\n",
    "MT_len = [len(w) for w in MT]\n",
    "print(f\"#Montana average token length is {np.mean(MT_len):.2f}.\")\n",
    "\n",
    "\n",
    "print(\"\")\n",
    "print(\"All statistics are calculated BEFORE cleaning.\")"
   ]
  },
  {
   "cell_type": "markdown",
   "id": "82761b0d-4ddd-4d71-9369-e6a4ceb73525",
   "metadata": {},
   "source": [
    "The next step is to clean the data:"
   ]
  },
  {
   "cell_type": "code",
   "execution_count": 283,
   "id": "0b7c23cc-683c-4e92-8af7-a4341062f2ec",
   "metadata": {},
   "outputs": [],
   "source": [
    "#More inputs\n",
    "from nltk.corpus import stopwords\n",
    "from string import punctuation\n",
    "from collections import Counter\n",
    "from nltk.tokenize import sent_tokenize, word_tokenize\n",
    "import nltk\n",
    "import numpy as np\n",
    "\n",
    "sw = stopwords.words('english')\n",
    "\n",
    "def get_patterns(text)  :\n",
    "    \"\"\"\n",
    "        This function takes text as an input and returns a dictionary of statistics,\n",
    "        after cleaning the text. \n",
    "    \n",
    "    \"\"\"\n",
    "\n",
    "    # tokenization and normalization here, including lowercase, only alpha characters, and no English stop words. \n",
    "    \n",
    "    clean = [w for w in text.split()]\n",
    "    clean = [w.lower() for w in clean]\n",
    "    clean = [w for w in clean if w.isalpha()]\n",
    "    clean = [w for w in clean if w not in sw]\n",
    "\n",
    "    # Calculating statistics\n",
    "    \n",
    "    total_tokens= len(clean)\n",
    "    unique_tokens= len(set(clean))\n",
    "    token_len = [len(w) for w in clean]\n",
    "    avg_token_len= np.mean(token_len)\n",
    "    lex_diversity= len(set(clean))/len(clean)\n",
    "    fd = nltk.FreqDist(clean)\n",
    "    top_10= fd.most_common(10)\n",
    " \n",
    "    # dictionary. \n",
    "    results = {'tokens':total_tokens,\n",
    "               'unique_tokens':unique_tokens,\n",
    "               'avg_token_length':avg_token_len,\n",
    "               'lexical_diversity':lex_diversity,\n",
    "               'top_10':top_10}\n",
    "\n",
    "    return(results)"
   ]
  },
  {
   "cell_type": "code",
   "execution_count": 179,
   "id": "815f221b-e9fc-4766-8bfc-72425f709393",
   "metadata": {},
   "outputs": [],
   "source": [
    "# Saving the function usage from above to a results object\n",
    "m_results = get_patterns(MT)"
   ]
  },
  {
   "cell_type": "code",
   "execution_count": 180,
   "id": "9dff3486-f7fb-42a8-a12a-8a91b3f1e155",
   "metadata": {},
   "outputs": [
    {
     "data": {
      "text/plain": [
       "{'tokens': 8683,\n",
       " 'unique_tokens': 3492,\n",
       " 'avg_token_length': 5.909938961188529,\n",
       " 'lexical_diversity': 0.4021651502936773,\n",
       " 'top_10': [('montana', 131),\n",
       "  ('new', 62),\n",
       "  ('get', 56),\n",
       "  ('via', 56),\n",
       "  ('like', 46),\n",
       "  ('snow', 42),\n",
       "  ('national', 41),\n",
       "  ('total', 40),\n",
       "  ('one', 39),\n",
       "  ('cases', 39)]}"
      ]
     },
     "execution_count": 180,
     "metadata": {},
     "output_type": "execute_result"
    }
   ],
   "source": [
    "#reading the results\n",
    "m_results"
   ]
  },
  {
   "cell_type": "markdown",
   "id": "8591ac94-05cc-4900-a880-ad38b71ab686",
   "metadata": {},
   "source": [
    "Unclean results as a reference: \n",
    "    \n",
    "* #Montana is 265493 tokens long.\n",
    "* #Montana has 331 unique tokens.\n",
    "* #Montana lexical diversity is 0.001.\n",
    "* #Montana average token length is 1.00."
   ]
  },
  {
   "cell_type": "markdown",
   "id": "f237e0ed-59a0-4134-aea8-b6547926d18a",
   "metadata": {},
   "source": [
    "When the data is clean the tokens massively decrease but the number of unique tokens increases. Lexcial diversity is increased in the clean version as is the average token length (from 1 to about 6)"
   ]
  },
  {
   "cell_type": "markdown",
   "id": "13b96c0a-73f0-4504-a9a9-c3245b662839",
   "metadata": {},
   "source": [
    "Let's do more!"
   ]
  },
  {
   "cell_type": "code",
   "execution_count": 185,
   "id": "11d22b01-2639-49eb-b62c-f804235da1af",
   "metadata": {},
   "outputs": [],
   "source": [
    "#Creating an data frame\n",
    "data = pd.read_csv('MontanaTwitter.csv')  "
   ]
  },
  {
   "cell_type": "code",
   "execution_count": 231,
   "id": "8b42d2c9-88d4-47ae-b854-a59858c5611d",
   "metadata": {},
   "outputs": [],
   "source": [
    "# turning the body of the tweet data to a single string\n",
    "tweets = data[\"Tweet\"].to_string()"
   ]
  },
  {
   "cell_type": "code",
   "execution_count": 292,
   "id": "a3a1962c-63a5-418b-9269-9692ebeb682c",
   "metadata": {},
   "outputs": [],
   "source": [
    "#splitting the tweets\n",
    "words = tweets.split()"
   ]
  },
  {
   "cell_type": "code",
   "execution_count": 293,
   "id": "fdaefc60-67c2-4795-a56f-f4658f811cee",
   "metadata": {},
   "outputs": [],
   "source": [
    "#Making a frequency distribution for clean words\n",
    "sw = nltk.corpus.stopwords.words(\"english\") \n",
    "\n",
    "fd2 = nltk.FreqDist([w.lower() for w in words \n",
    "                if w.lower() not in sw\n",
    "                and w.isalpha()])"
   ]
  },
  {
   "cell_type": "code",
   "execution_count": 294,
   "id": "a8d9f4a7-6685-4a9d-b69e-5d0be8801774",
   "metadata": {},
   "outputs": [
    {
     "name": "stdout",
     "output_type": "stream",
     "text": [
      "2991\n",
      "montana : 69 : 0.023069207622868605\n",
      "snow : 24 : 0.00802407221664995\n",
      "new : 23 : 0.007689735874289535\n",
      "last : 20 : 0.006686726847208292\n",
      "national : 19 : 0.006352390504847877\n",
      "like : 18 : 0.006018054162487462\n",
      "one : 17 : 0.0056837178201270475\n",
      "winter : 17 : 0.0056837178201270475\n",
      "yellowstone : 16 : 0.005349381477766633\n",
      "great : 16 : 0.005349381477766633\n",
      "love : 15 : 0.0050150451354062184\n",
      "states : 13 : 0.0043463724506853894\n",
      "day : 13 : 0.0043463724506853894\n",
      "fire : 13 : 0.0043463724506853894\n",
      "today : 12 : 0.004012036108324975\n",
      "round : 12 : 0.004012036108324975\n",
      "report : 12 : 0.004012036108324975\n",
      "best : 12 : 0.004012036108324975\n",
      "western : 12 : 0.004012036108324975\n",
      "park : 12 : 0.004012036108324975\n"
     ]
    }
   ],
   "source": [
    "total_words = 0 \n",
    "\n",
    "for word, count in fd2.items() :\n",
    "    total_words += count\n",
    "    \n",
    "print(total_words)\n",
    "\n",
    "for word,count  in fd2.most_common(20) :\n",
    "    print(f\"{word} : {count} : {count/total_words}\")"
   ]
  },
  {
   "cell_type": "markdown",
   "id": "a76c03ab-c729-412c-88a0-344128339b40",
   "metadata": {},
   "source": [
    "When the data is clean the most common word is Montana which makes sense. Most people tweet about something and use the hashtag to find other people who are interested in the subject. The words that stuck out to me are \"snow\", \"winter\", and \"fire\". These are the things in my head this week about Montana"
   ]
  },
  {
   "cell_type": "markdown",
   "id": "7d203c27-c078-4cee-abbf-b1364fc14dff",
   "metadata": {},
   "source": [
    "Here is a pretty way to show the most common words:"
   ]
  },
  {
   "cell_type": "code",
   "execution_count": 366,
   "id": "a1151cb5-056c-4a43-b926-6b5e765138e7",
   "metadata": {},
   "outputs": [
    {
     "data": {
      "image/png": "[encoded data removed]",
      "text/plain": [
       "<Figure size 720x720 with 1 Axes>"
      ]
     },
     "metadata": {
      "needs_background": "light"
     },
     "output_type": "display_data"
    }
   ],
   "source": [
    "## Creating FreqDist, keeping the 20 most common tokens\n",
    "all_fdist = nltk.FreqDist(fd2).most_common(20)\n",
    "\n",
    "## Conversion to Pandas \n",
    "all_fdist = pd.Series(dict(all_fdist))\n",
    "\n",
    "## Setting figure, ax into variables\n",
    "fig, ax = plt.subplots(figsize=(10,10))\n",
    "\n",
    "## Seaborn plotting using Pandas attributes + xtick rotation for ease of viewing\n",
    "all_plot = sns.barplot(x=all_fdist.index, y=all_fdist.values, ax=ax)\n",
    "plt.xticks(rotation=30);"
   ]
  },
  {
   "cell_type": "markdown",
   "id": "687fdb19-6f78-408b-ad43-8d0afd3433fe",
   "metadata": {},
   "source": [
    "Now we get fancy, lets build a word cloud about #Montana! Thanks Google for these ideas!"
   ]
  },
  {
   "cell_type": "code",
   "execution_count": 254,
   "id": "31eeac93-6a36-4626-9327-c11b0df3818d",
   "metadata": {},
   "outputs": [],
   "source": [
    "#Even more imports\n",
    "from PIL import Image\n",
    "from wordcloud import WordCloud, STOPWORDS, ImageColorGenerator\n",
    "\n",
    "import matplotlib.pyplot as plt"
   ]
  },
  {
   "cell_type": "code",
   "execution_count": 258,
   "id": "be0bfcd6-e041-4705-a797-d5c9da8ce597",
   "metadata": {},
   "outputs": [
    {
     "data": {
      "image/png": "[encoded data removed]",
      "text/plain": [
       "<Figure size 432x288 with 1 Axes>"
      ]
     },
     "metadata": {
      "needs_background": "light"
     },
     "output_type": "display_data"
    }
   ],
   "source": [
    "#Making the word cloud from our previous freqdist\n",
    "wordcloud2 = WordCloud(background_color=\"white\").generate(' '.join(fd2))\n",
    "plt.figure()\n",
    "plt.imshow(wordcloud2, interpolation=\"bilinear\")\n",
    "plt.axis(\"off\")\n",
    "plt.show()"
   ]
  },
  {
   "cell_type": "markdown",
   "id": "dacb2819-8dba-49fd-ba5e-15c4838a794e",
   "metadata": {},
   "source": [
    "# Bigrams"
   ]
  },
  {
   "cell_type": "markdown",
   "id": "db6e1aa0-9644-40c4-bf65-e2e0562a9263",
   "metadata": {},
   "source": [
    "If you are bad at something, keep doing it. That's my motto. And that is why I explore bigrams in this next section of my Twitter #Montana analysis. "
   ]
  },
  {
   "cell_type": "code",
   "execution_count": 267,
   "id": "d5a7a4a2-3100-4f69-bb94-2863e49088aa",
   "metadata": {},
   "outputs": [],
   "source": [
    "#Making bigrams with the nltk function of our clean words\n",
    "ss_bigrams = nltk.ngrams(fd2,2)"
   ]
  },
  {
   "cell_type": "code",
   "execution_count": 268,
   "id": "e8befa30-0fc5-477e-8a79-feece9e676ac",
   "metadata": {},
   "outputs": [
    {
     "name": "stdout",
     "output_type": "stream",
     "text": [
      "('montana', 'snow')\n",
      "('snow', 'new')\n",
      "('new', 'last')\n",
      "('last', 'national')\n",
      "('national', 'like')\n",
      "('like', 'one')\n",
      "('one', 'winter')\n",
      "('winter', 'yellowstone')\n",
      "('yellowstone', 'great')\n",
      "('great', 'love')\n",
      "('love', 'states')\n",
      "('states', 'day')\n",
      "('day', 'fire')\n",
      "('fire', 'today')\n",
      "('today', 'round')\n",
      "('round', 'report')\n",
      "('report', 'best')\n",
      "('best', 'western')\n",
      "('western', 'park')\n",
      "('park', 'happy')\n",
      "('happy', 'big')\n",
      "('big', 'look')\n"
     ]
    }
   ],
   "source": [
    "#Displaying the pairs\n",
    "for idx, pair in enumerate(ss_bigrams) :\n",
    "    print(pair)\n",
    "    if idx > 20 :\n",
    "        break"
   ]
  },
  {
   "cell_type": "markdown",
   "id": "fb586159-c061-4914-bb71-882c21bbfbe9",
   "metadata": {},
   "source": [
    "Now we can write random tweets about Montana!"
   ]
  },
  {
   "cell_type": "code",
   "execution_count": 297,
   "id": "dd858a43-3180-42e3-a511-09b90ac5cb4e",
   "metadata": {},
   "outputs": [],
   "source": [
    "def generate_bigram_text(text,length=10,start=None) :\n",
    "    \n",
    "    uni_fd = nltk.FreqDist(text)\n",
    "\n",
    "    if not start :\n",
    "        # Select a starting point here. \n",
    "        words = []\n",
    "        for i in text:\n",
    "            if i.isalpha():\n",
    "                words.append(i)\n",
    "        start = random.choice(words)\n",
    "        \n",
    "    else :\n",
    "        if start not in uni_fd :\n",
    "            print(f\"The starting word, {start}, isn't in the text!\")\n",
    "            return(\"\")\n",
    "    \n",
    "    # here we'll need the frequency distribution for the bigrams   \n",
    "    # JOHN! This is where I got confused... I thought the line above was what needed to happen right there like you were giving an instruction. \n",
    "    \n",
    "    results = [] # the results of your text generator\n",
    "    \n",
    "    results.append(start)\n",
    "    \n",
    "    bigram_list = list(nltk.bigrams(fd2))\n",
    "    \n",
    "    deftdict = collections.defaultdict(list)\n",
    "    \n",
    "    for key, value in bigram_list:\n",
    "        deftdict[key].append(value)\n",
    "        \n",
    "    key_list = list(deftdict.keys())\n",
    "    value_list = list(deftdict.values())\n",
    "    \n",
    "    # Count is to ensure only 10 words are in the loop\n",
    "    count = 0\n",
    "    \n",
    "    while count < length - 1:\n",
    "        position = key_list.index(start)\n",
    "        word = random.choice(value_list[position])\n",
    "        results.append(word)\n",
    "        start = word\n",
    "        count += 1\n",
    "\n",
    "    \n",
    "    # here you'll build up results by randomly selecting\n",
    "    # bigrams that \"chain\" on to the last word in results\n",
    "    \n",
    "    \n",
    "    return(\" \".join(results))"
   ]
  },
  {
   "cell_type": "markdown",
   "id": "e9503f30-18bf-41cc-abc0-51b85e49ada5",
   "metadata": {},
   "source": [
    "Here are some sample tweets. They are quite funny! "
   ]
  },
  {
   "cell_type": "code",
   "execution_count": 364,
   "id": "143c1d61-5a74-43aa-a502-69ae0c8f0675",
   "metadata": {},
   "outputs": [
    {
     "data": {
      "text/plain": [
       "'rainbows shop thursday insure warehouse saw blog greatest silversmith yonder'"
      ]
     },
     "execution_count": 364,
     "metadata": {},
     "output_type": "execute_result"
    }
   ],
   "source": [
    "generate_bigram_text(fd2)"
   ]
  },
  {
   "cell_type": "code",
   "execution_count": 363,
   "id": "6d97a9f3-0636-4bd0-917c-9aa1d7780ea5",
   "metadata": {},
   "outputs": [
    {
     "data": {
      "text/plain": [
       "'office lease secret bartenders nihilist tester stolen stole questions 𝙒𝙄𝙇𝘿'"
      ]
     },
     "execution_count": 363,
     "metadata": {},
     "output_type": "execute_result"
    }
   ],
   "source": [
    "generate_bigram_text(fd2) #My fav"
   ]
  },
  {
   "cell_type": "code",
   "execution_count": 365,
   "id": "5b276996-7454-478b-bfba-ec776c595cde",
   "metadata": {},
   "outputs": [
    {
     "data": {
      "text/plain": [
       "'airlines along black american school true early lives wild use'"
      ]
     },
     "execution_count": 365,
     "metadata": {},
     "output_type": "execute_result"
    }
   ],
   "source": [
    "generate_bigram_text(fd2)"
   ]
  },
  {
   "cell_type": "markdown",
   "id": "a03386f6-721f-4751-a2c8-e1fd64223943",
   "metadata": {},
   "source": [
    "# Conclusion"
   ]
  },
  {
   "cell_type": "markdown",
   "id": "8146b095-24b9-41cb-bd15-3855595d4923",
   "metadata": {},
   "source": [
    "I'm greatly looking forward to using this code to pull data about the businesses I am close to and work for. I will use the hashtags and key words common to the businesses here in Great Falls, MT and can pull what people are talking about and in what orders. This data can be used to see what is effective in marketng and what is not. I also love the idea of just random tweets to see how popular they get because they are hitting the common words."
   ]
  },
  {
   "cell_type": "code",
   "execution_count": null,
   "id": "86f1f370-3b21-4393-ab0a-65ce1a1c3917",
   "metadata": {},
   "outputs": [],
   "source": []
  }
 ],
 "metadata": {
  "kernelspec": {
   "display_name": "Python 3",
   "language": "python",
   "name": "python3"
  },
  "language_info": {
   "codemirror_mode": {
    "name": "ipython",
    "version": 3
   },
   "file_extension": ".py",
   "mimetype": "text/x-python",
   "name": "python",
   "nbconvert_exporter": "python",
   "pygments_lexer": "ipython3",
   "version": "3.8.8"
  }
 },
 "nbformat": 4,
 "nbformat_minor": 5
}
